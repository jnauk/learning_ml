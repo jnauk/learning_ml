{
  "nbformat": 4,
  "nbformat_minor": 0,
  "metadata": {
    "colab": {
      "name": "what_is_ml.ipynb",
      "provenance": [],
      "authorship_tag": "ABX9TyOKv3QVhzaxhQiMZQ6q7pdF",
      "include_colab_link": true
    },
    "kernelspec": {
      "name": "python3",
      "display_name": "Python 3"
    }
  },
  "cells": [
    {
      "cell_type": "markdown",
      "metadata": {
        "id": "view-in-github",
        "colab_type": "text"
      },
      "source": [
        "<a href=\"https://colab.research.google.com/github/jnauk/learning_ml/blob/master/what_is_ml.ipynb\" target=\"_parent\"><img src=\"https://colab.research.google.com/assets/colab-badge.svg\" alt=\"Open In Colab\"/></a>"
      ]
    },
    {
      "cell_type": "code",
      "metadata": {
        "id": "mawOSM8J_XDg",
        "colab_type": "code",
        "colab": {
          "base_uri": "https://localhost:8080/",
          "height": 102
        },
        "outputId": "ccd76d47-d2ac-4f9d-db1f-a9af594450eb"
      },
      "source": [
        "#classification example\n",
        "import numpy as np\n",
        "from sklearn.datasets import load_breast_cancer\n",
        "\n",
        "data = load_breast_cancer()\n",
        "type(data)\n",
        "data.keys()\n",
        "data.data\n",
        "data.data.shape\n",
        "data.target\n",
        "data.target_names\n",
        "data.target.shape\n",
        "data.feature_names\n",
        "data.feature_names.shape\n",
        "\n",
        "from sklearn.model_selection import train_test_split\n",
        "\n",
        "xTrain, xTest, yTrain, yTest = train_test_split(data.data, data.target, test_size=0.33)\n",
        "\n",
        "from sklearn.ensemble import RandomForestClassifier\n",
        "\n",
        "#train\n",
        "model = RandomForestClassifier()\n",
        "model.fit(xTrain, yTrain)\n",
        "\n",
        "#score\n",
        "print(\"train set score:\", model.score(xTrain, yTrain))\n",
        "print(\"test set score:\", model.score(xTest, yTest))\n",
        "\n",
        "#predict\n",
        "predictions = model.predict(xTest)\n",
        "predictions\n",
        "\n",
        "n = len(yTest)\n",
        "print(\"manual test set score:\", np.sum(predictions == yTest) / n)\n",
        "\n",
        "#using deeplearning\n",
        "from sklearn.neural_network import MLPClassifier\n",
        "from sklearn.preprocessing import StandardScaler\n",
        "\n",
        "scaler = StandardScaler()\n",
        "xTrain2 = scaler.fit_transform(xTrain)\n",
        "xTest2 = scaler.transform(xTest)\n",
        "\n",
        "model = MLPClassifier(max_iter=500)\n",
        "model.fit(xTrain2, yTrain)\n",
        "\n",
        "print(\"train set score:\", model.score(xTrain2, yTrain))\n",
        "print(\"test set score:\", model.score(xTest2, yTest))"
      ],
      "execution_count": 27,
      "outputs": [
        {
          "output_type": "stream",
          "text": [
            "train set score: 1.0\n",
            "test set score: 0.9521276595744681\n",
            "manual test set score: 0.9521276595744681\n",
            "train set score: 0.9973753280839895\n",
            "test set score: 0.9840425531914894\n"
          ],
          "name": "stdout"
        }
      ]
    },
    {
      "cell_type": "code",
      "metadata": {
        "id": "T3C-_e3lrK7l",
        "colab_type": "code",
        "colab": {}
      },
      "source": [
        ""
      ],
      "execution_count": 0,
      "outputs": []
    }
  ]
}